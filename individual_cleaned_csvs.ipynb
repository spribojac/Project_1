{
 "cells": [
  {
   "cell_type": "code",
   "execution_count": 10,
   "id": "6bce9aa6",
   "metadata": {},
   "outputs": [],
   "source": [
    "import os\n",
    "import pandas as pd"
   ]
  },
  {
   "cell_type": "code",
   "execution_count": null,
   "id": "55f7cbb5",
   "metadata": {},
   "outputs": [],
   "source": [
    "# The path to your CSV files\n",
    "file_paths = [\"2015.csv\", \"2016.csv\", \"2017.csv\", \"2018.csv\", \"2019.csv\"]"
   ]
  },
  {
   "cell_type": "code",
   "execution_count": null,
   "id": "7275c501",
   "metadata": {},
   "outputs": [],
   "source": [
    "# 2020 needs to be done separately due to columns being droppped for cleaning\n",
    "# Loop through the file paths for 2015-2019 and process each file separately\n",
    "for file_path in file_paths:\n",
    "    year = os.path.splitext(os.path.basename(file_path))[0]  # Extract the year from the file name\n",
    "    df = pd.read_csv(file_path, thousands=',', decimal='.')\n",
    "\n",
    "    # Determine the column name for the \"Country\" column\n",
    "    country_column = None\n",
    "    if 'Country' in df.columns:\n",
    "        country_column = 'Country'\n",
    "    elif 'Country or region' in df.columns:\n",
    "        country_column = 'Country or region'\n",
    "\n",
    "    if country_column:\n",
    "        # Define a dictionary to map column names to the desired names\n",
    "        df.rename(columns={\n",
    "            \"Country or region\": \"Country\",\n",
    "            \"Country name\": \"Country\",\n",
    "            \"Happiness.Score\": \"Happiness Score\",\n",
    "            \"Ladder score\": \"Happiness Score\",\n",
    "            \"Score\": \"Happiness Score\",\n",
    "            \"Economy..GDP.per.Capita.\": \"GDP per Capita\",\n",
    "            \"Economy (GDP per Capita)\": \"GDP per Capita\",\n",
    "            \"Logged GDP per capita\": \"GDP per Capita\",\n",
    "            \"GDP per capita\": \"GDP per Capita\",\n",
    "            \"Family\": \"Social Support\",\n",
    "            \"Social support\": \"Social Support\",\n",
    "            \"Explained by: GDP per capita\": \"GDP per Capita\",\n",
    "            \"Health..Life.Expectancy.\": \"Life Expectancy/Health\",\n",
    "            \"Health (Life Expectancy)\": \"Life Expectancy/Health\",\n",
    "            \"Healthy life expectancy\": \"Life Expectancy/Health\",\n",
    "            \"Freedom to make life choices\": \"Freedom\",\n",
    "            \"Trust..Government.Corruption.\": \"Trust (government corruption)\",\n",
    "            \"Trust (Government Corruption)\": \"Trust (government corruption)\",\n",
    "            \"Perceptions of corruption\": \"Trust (government corruption)\",\n",
    "            \"Explained by: Generosity\": \"Generosity\"\n",
    "        }, inplace=True)\n",
    "\n",
    "        # Select the desired columns in the specified order\n",
    "        desired_columns = [\"Country\", \"Happiness Score\", \"GDP per Capita\", \n",
    "                           \"Social Support\", \"Life Expectancy/Health\", \"Freedom\", \"Trust (government corruption)\", \n",
    "                           \"Generosity\"]\n",
    "\n",
    "        df = df[desired_columns]\n",
    "\n",
    "        # Save the processed DataFrame to a separate CSV file for the current year\n",
    "        output_file = f\"output/{year}_data.csv\"\n",
    "        df.to_csv(output_file, index=False)"
   ]
  },
  {
   "cell_type": "code",
   "execution_count": 11,
   "id": "30582554",
   "metadata": {},
   "outputs": [
    {
     "name": "stdout",
     "output_type": "stream",
     "text": [
      "Country name,Regional indicator,Ladder score,Standard error of ladder score,upperwhisker,lowerwhisker,Logged GDP per capita,Social support,Healthy life expectancy,Freedom to make life choices,Generosity,Perceptions of corruption,Ladder score in Dystopia,Explained by: Log GDP per capita,Explained by: Social support,Explained by: Healthy life expectancy,Explained by: Freedom to make life choices,Explained by: Generosity,Explained by: Perceptions of corruption,Dystopia + residual\n",
      "\n",
      "Finland,Western Europe,7.808700085,0.031156305,7.869766235,7.747633934,10.63926697,0.954329729,71.9008255,0.949172199,-0.059482019,0.195444584,1.972316742,1.285189509,1.499525905,0.961271405,0.66231674,0.159670442,0.477857262,2.762835026\n",
      "\n",
      "Denmark,Western Europe,7.645599842,0.033492286,7.711244583,7.579955101,10.77400112,0.955990791,72.40250397,0.951444268,0.066201776,0.168489456,1.972316742,1.326948524,1.503449202,0.979332566,0.665039897,0.242793396,0.495260328,2.432740688\n",
      "\n",
      "Switzerland,Western Europe,7.559899807,0.035014171,7.628527641,7.491271973,10.97993279,0.942846596,74.10244751,0.921336651,0.105911039,0.303728431,1.972316742,1.39077425,1.472403407,1.040533185,0.62895447,0.269055754,0.407945901,2.35026741\n",
      "\n",
      "Iceland,Western Europe,7.504499912,0.059615862,7.621346951,7.387652874,10.77255917,0.974669576,73,0.948891878,0.246944219,0.711709738,1.972316742,1.326501608,1.547567487,1.000843406,0.661980748,0.362330228,0.144540772,2.460688114\n",
      "\n"
     ]
    }
   ],
   "source": [
    "## 2020 was not working with the rest so debug and test\n",
    "with open(\"2020.csv\", \"r\") as file:\n",
    "    for i, line in enumerate(file):\n",
    "        if i < 5:  # Print the first 5 lines\n",
    "            print(line)"
   ]
  },
  {
   "cell_type": "code",
   "execution_count": 13,
   "id": "4869c5d7",
   "metadata": {},
   "outputs": [],
   "source": [
    "# Cleaning 2020\n",
    "# Define the file path to your CSV file\n",
    "file_path = \"2020.csv\"\n",
    "\n",
    "# Extract the year from the file name\n",
    "year = os.path.splitext(os.path.basename(file_path))[0]\n",
    "\n",
    "# Read CSV file\n",
    "df = pd.read_csv(file_path, thousands=',', decimal='.')"
   ]
  },
  {
   "cell_type": "code",
   "execution_count": null,
   "id": "2d62222e",
   "metadata": {},
   "outputs": [],
   "source": [
    "# Drop unwanted columns\n",
    "columns_to_drop = [\n",
    "    \"Standard error of ladder score\",\n",
    "    \"upperwhisker\",\n",
    "    \"lowerwhisker\",\n",
    "    \"Logged GDP per capita\",\n",
    "    \"Social support\",\n",
    "    \"Healthy life expectancy\",\n",
    "    \"Freedom to make life choices\",\n",
    "    \"Generosity\",\n",
    "    \"Perceptions of corruption\",\n",
    "    \"Ladder score in Dystopia\",\n",
    "    \"Dystopia + residual\",\n",
    "    \"Regional indicator\"\n",
    "    ]\n",
    "\n",
    "df.drop(columns=columns_to_drop, inplace=True)"
   ]
  },
  {
   "cell_type": "code",
   "execution_count": null,
   "id": "92b55fc0",
   "metadata": {},
   "outputs": [],
   "source": [
    "# Rename the remaining columns as needed\n",
    "df.rename(columns={\n",
    "    \"Country name\": \"Country\",\n",
    "    \"Ladder score\": \"Happiness Score\",\n",
    "    \"Explained by: Log GDP per capita\": \"GDP per Capita\",\n",
    "    \"Explained by: Social support\": \"Social Support\",\n",
    "    \"Explained by: Healthy life expectancy\": \"Life Expectancy/Health\",\n",
    "    \"Explained by: Freedom to make life choices\": \"Freedom\",\n",
    "    \"Explained by: Perceptions of corruption\": \"Trust (government corruption)\",\n",
    "    \"Explained by: Generosity\": \"Generosity\"\n",
    "}, inplace=True)\n"
   ]
  },
  {
   "cell_type": "code",
   "execution_count": null,
   "id": "b8468597",
   "metadata": {},
   "outputs": [],
   "source": [
    "# Select the desired columns in the specified order\n",
    "desired_columns = [\"Country\", \"Happiness Score\", \"GDP per Capita\", \n",
    "                           \"Social Support\", \"Life Expectancy/Health\", \"Freedom\", \"Trust (government corruption)\", \n",
    "                           \"Generosity\"]\n",
    "\n",
    "df = df[desired_columns]"
   ]
  },
  {
   "cell_type": "code",
   "execution_count": null,
   "id": "612f3288",
   "metadata": {},
   "outputs": [],
   "source": [
    "# Save the processed DataFrame to a separate CSV file for the current year\n",
    "output_file = f\"output/2020_data.csv\"\n",
    "df.to_csv(output_file, index=False)"
   ]
  }
 ],
 "metadata": {
  "kernelspec": {
   "display_name": "Python 3 (ipykernel)",
   "language": "python",
   "name": "python3"
  },
  "language_info": {
   "codemirror_mode": {
    "name": "ipython",
    "version": 3
   },
   "file_extension": ".py",
   "mimetype": "text/x-python",
   "name": "python",
   "nbconvert_exporter": "python",
   "pygments_lexer": "ipython3",
   "version": "3.11.4"
  }
 },
 "nbformat": 4,
 "nbformat_minor": 5
}
