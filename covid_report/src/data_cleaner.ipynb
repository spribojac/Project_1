{
 "cells": [
  {
   "cell_type": "markdown",
   "metadata": {},
   "source": [
    "1. **Load the Dataset:**\n",
    "   - The code begins by specifying the file path to the dataset (2020.csv) and attempts to load the data using the `pd.read_csv()` function.\n",
    "\n",
    "2. **Check for Missing or Invalid Values:**\n",
    "   - It checks for any missing or invalid values in the dataset using the `.isnull().values.any()` method to ensure data integrity.\n",
    "\n",
    "3. **Define Columns to Keep:**\n",
    "   - Based on the analysis plan, it defines the specific columns to keep, including:\n",
    "     - \"Logged GDP per capita\" for economic factor,\n",
    "     - \"Perceptions of corruption\" for government corruption perception,\n",
    "     - \"Healthy life expectancy\" for life expectancy,\n",
    "     - \"Social support\" for the social factor,\n",
    "     - \"Country name\" for country identification,\n",
    "     - \"Ladder score\" which corresponds to Happiness Score.\n",
    "\n",
    "4. **Filter the DataFrame:**\n",
    "   - Filters the DataFrame to retain only the desired columns using DataFrame indexing (`df[columns_to_keep]`).\n",
    "\n",
    "5. **Save Filtered Data:**\n",
    "   - Saves the filtered DataFrame to a new CSV file named \"2020_data.csv\" using `.to_csv()` method.\n",
    "\n",
    "6. **Print Confirmation:**\n",
    "   - Prints a message confirming the successful saving of the filtered data.\n",
    "\n",
    "7. **Output:**\n",
    "   - The final dataset \"2020_data.csv\" now contains the selected columns for further analysis.\n"
   ]
  },
  {
   "cell_type": "code",
   "execution_count": 1,
   "metadata": {},
   "outputs": [
    {
     "name": "stdout",
     "output_type": "stream",
     "text": [
      "Filtered data saved to ..\\data\\2020_data.csv\n"
     ]
    }
   ],
   "source": [
    "import pandas as pd\n",
    "\n",
    "# Load the dataset\n",
    "file_path = \"..\\\\..\\\\resources\\\\2020.csv\"  # Update with your file path\n",
    "\n",
    "# Load the data and check for missing or invalid values\n",
    "try:\n",
    "    df = pd.read_csv(file_path)\n",
    "except pd.errors.ParserError as e:\n",
    "    print(\"Error while parsing the CSV file:\", str(e))\n",
    "    raise\n",
    "\n",
    "# Check for missing or invalid values\n",
    "if df.isnull().values.any():\n",
    "    print(\"The dataset contains missing values.\")\n",
    "    # Optionally, you can drop rows with missing values or impute them.\n",
    "\n",
    "# Define the columns you want to keep based on the provided options\n",
    "columns_to_keep = [\n",
    "    \"Logged GDP per capita\",\n",
    "    \"Perceptions of corruption\",\n",
    "    \"Healthy life expectancy\",\n",
    "    \"Social support\",\n",
    "    \"Country name\",\n",
    "    \"Ladder score\"  # Happiness Score\n",
    "]\n",
    "\n",
    "# Filter the DataFrame to keep only the desired columns\n",
    "filtered_df = df[columns_to_keep]\n",
    "\n",
    "# Save the filtered DataFrame to a new CSV file (as 2020_data.csv)\n",
    "output_file_path = \"..\\\\data\\\\2020_data.csv\"\n",
    "filtered_df.to_csv(output_file_path, index=False)\n",
    "\n",
    "print(\"Filtered data saved to\", output_file_path)\n"
   ]
  }
 ],
 "metadata": {
  "kernelspec": {
   "display_name": "Python 3 (ipykernel)",
   "language": "python",
   "name": "python3"
  },
  "language_info": {
   "codemirror_mode": {
    "name": "ipython",
    "version": 3
   },
   "file_extension": ".py",
   "mimetype": "text/x-python",
   "name": "python",
   "nbconvert_exporter": "python",
   "pygments_lexer": "ipython3",
   "version": "3.11.4"
  }
 },
 "nbformat": 4,
 "nbformat_minor": 2
}
